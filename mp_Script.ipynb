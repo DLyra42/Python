{
  "nbformat": 4,
  "nbformat_minor": 0,
  "metadata": {
    "colab": {
      "provenance": [],
      "authorship_tag": "ABX9TyPB+KhsOAQ9MMuhw3wJ4VRb",
      "include_colab_link": true
    },
    "kernelspec": {
      "name": "python3",
      "display_name": "Python 3"
    },
    "language_info": {
      "name": "python"
    }
  },
  "cells": [
    {
      "cell_type": "markdown",
      "metadata": {
        "id": "view-in-github",
        "colab_type": "text"
      },
      "source": [
        "<a href=\"https://colab.research.google.com/github/DLyra42/Python/blob/main/mp_Script.ipynb\" target=\"_parent\"><img src=\"https://colab.research.google.com/assets/colab-badge.svg\" alt=\"Open In Colab\"/></a>"
      ]
    },
    {
      "cell_type": "code",
      "source": [
        "!pip install tabula-py\n",
        "!pip install pandas\n",
        "import tabula\n",
        "import pandas as pd\n",
        "\n",
        "pdf_path = \"/content/mercadopago_outubro.pdf\"\n",
        "\n",
        "column_names = [\"Data\", \"Descrição\", \"ID da operação\", \"Valor\", \"Saldo\"]\n",
        "\n",
        "cleaned_tables = []\n",
        "\n",
        "try:\n",
        "  tables = tabula.read_pdf(pdf_path, pages='all', multiple_tables=True)\n",
        "\n",
        "  if tables:\n",
        "    for table in tables:\n",
        "      table.columns = column_names\n",
        "      table.dropna(how='all', inplace=True)\n",
        "      table.dropna(axis=1, how='all', inplace=True)\n",
        "\n",
        "      for col in [\"Valor\", \"Saldo\"]:\n",
        "        if col in table.columns:\n",
        "          table[col] = table[col].astype(str).str.replace(r'[R$\\.]', ' ', regex=True).str.replace(',','.', regex=False)\n",
        "\n",
        "      cleaned_tables.append(table)\n",
        "\n",
        "    final_df = pd.concat(cleaned_tables, ignore_index=True)\n",
        "    final_df.fillna(' ', inplace=True)\n",
        "    final_df.dropna(subset=['Data', 'Valor'], inplace=True)\n",
        "    final_df.to_csv('extracted_data.csv', index=False)\n",
        "\n",
        "  else:\n",
        "    print(\"No tables foind in the PDF.\")\n",
        "\n",
        "except Exception as e:\n",
        "  print(f\"An error ocurred: {e}\")\n"
      ],
      "metadata": {
        "colab": {
          "base_uri": "https://localhost:8080/"
        },
        "id": "TuXl5flgSWdc",
        "outputId": "8d687fb2-99c0-4980-d972-060a20537321",
        "collapsed": true
      },
      "execution_count": null,
      "outputs": [
        {
          "output_type": "stream",
          "name": "stdout",
          "text": [
            "Requirement already satisfied: tabula-py in /usr/local/lib/python3.11/dist-packages (2.10.0)\n",
            "Requirement already satisfied: pandas>=0.25.3 in /usr/local/lib/python3.11/dist-packages (from tabula-py) (2.2.2)\n",
            "Requirement already satisfied: numpy>1.24.4 in /usr/local/lib/python3.11/dist-packages (from tabula-py) (1.26.4)\n",
            "Requirement already satisfied: distro in /usr/local/lib/python3.11/dist-packages (from tabula-py) (1.9.0)\n",
            "Requirement already satisfied: python-dateutil>=2.8.2 in /usr/local/lib/python3.11/dist-packages (from pandas>=0.25.3->tabula-py) (2.8.2)\n",
            "Requirement already satisfied: pytz>=2020.1 in /usr/local/lib/python3.11/dist-packages (from pandas>=0.25.3->tabula-py) (2025.1)\n",
            "Requirement already satisfied: tzdata>=2022.7 in /usr/local/lib/python3.11/dist-packages (from pandas>=0.25.3->tabula-py) (2025.1)\n",
            "Requirement already satisfied: six>=1.5 in /usr/local/lib/python3.11/dist-packages (from python-dateutil>=2.8.2->pandas>=0.25.3->tabula-py) (1.17.0)\n",
            "Requirement already satisfied: pandas in /usr/local/lib/python3.11/dist-packages (2.2.2)\n",
            "Requirement already satisfied: numpy>=1.23.2 in /usr/local/lib/python3.11/dist-packages (from pandas) (1.26.4)\n",
            "Requirement already satisfied: python-dateutil>=2.8.2 in /usr/local/lib/python3.11/dist-packages (from pandas) (2.8.2)\n",
            "Requirement already satisfied: pytz>=2020.1 in /usr/local/lib/python3.11/dist-packages (from pandas) (2025.1)\n",
            "Requirement already satisfied: tzdata>=2022.7 in /usr/local/lib/python3.11/dist-packages (from pandas) (2025.1)\n",
            "Requirement already satisfied: six>=1.5 in /usr/local/lib/python3.11/dist-packages (from python-dateutil>=2.8.2->pandas) (1.17.0)\n"
          ]
        },
        {
          "output_type": "stream",
          "name": "stderr",
          "text": [
            "<ipython-input-19-f9558ae950e1>:28: FutureWarning: Setting an item of incompatible dtype is deprecated and will raise an error in a future version of pandas. Value ' ' has dtype incompatible with float64, please explicitly cast to a compatible dtype first.\n",
            "  final_df.fillna(' ', inplace=True)\n"
          ]
        }
      ]
    },
    {
      "cell_type": "code",
      "source": [
        "!pip install tabula-py\n",
        "!pip install pandas\n",
        "import tabula\n",
        "import pandas as pd\n",
        "\n",
        "pdf_path = \"/content/mercadopago_outubro.pdf\"\n",
        "\n",
        "column_names = [\"Data\", \"Descrição\", \"ID da operação\", \"Valor\", \"Saldo\"]\n",
        "\n",
        "cleaned_tables = []\n",
        "\n",
        "try:\n",
        "    tables = tabula.read_pdf(pdf_path, pages='all', multiple_tables=True)\n",
        "\n",
        "    if tables:\n",
        "        for table in tables:\n",
        "            table.columns = column_names\n",
        "            table.dropna(how='all', inplace=True)\n",
        "            table.dropna(axis=1, how='all', inplace=True)\n",
        "\n",
        "            for col in [\"Valor\", \"Saldo\"]:\n",
        "                if col in table.columns:\n",
        "                    table[col] = table[col].astype(str).str.replace(r'[R$\\.]', ' ', regex=True).str.replace(',','.', regex=False)\n",
        "\n",
        "            cleaned_tables.append(table)\n",
        "\n",
        "        final_df = pd.concat(cleaned_tables, ignore_index=True)\n",
        "\n",
        "        # Fill NaN values with specific values\n",
        "        final_df['Valor'].fillna(0, inplace=True)\n",
        "        final_df['Saldo'].fillna(0, inplace=True)\n",
        "\n",
        "        # Drop rows where 'Data' or 'Valor' is NaN\n",
        "        final_df.dropna(subset=['Data', 'Valor'], inplace=True)\n",
        "\n",
        "        # Save to CSV\n",
        "        final_df.to_csv('extracted_data.csv', index=False)\n",
        "\n",
        "    else:\n",
        "        print(\"No tables found in the PDF.\")\n",
        "\n",
        "except Exception as e:\n",
        "    print(f\"An error occurred: {e}\")"
      ],
      "metadata": {
        "colab": {
          "base_uri": "https://localhost:8080/"
        },
        "collapsed": true,
        "id": "djvQy3QgmNkG",
        "outputId": "e522e5c9-ccce-4916-95e9-7f9ec53ecf1b"
      },
      "execution_count": null,
      "outputs": [
        {
          "output_type": "stream",
          "name": "stdout",
          "text": [
            "Requirement already satisfied: tabula-py in /usr/local/lib/python3.11/dist-packages (2.10.0)\n",
            "Requirement already satisfied: pandas>=0.25.3 in /usr/local/lib/python3.11/dist-packages (from tabula-py) (2.2.2)\n",
            "Requirement already satisfied: numpy>1.24.4 in /usr/local/lib/python3.11/dist-packages (from tabula-py) (1.26.4)\n",
            "Requirement already satisfied: distro in /usr/local/lib/python3.11/dist-packages (from tabula-py) (1.9.0)\n",
            "Requirement already satisfied: python-dateutil>=2.8.2 in /usr/local/lib/python3.11/dist-packages (from pandas>=0.25.3->tabula-py) (2.8.2)\n",
            "Requirement already satisfied: pytz>=2020.1 in /usr/local/lib/python3.11/dist-packages (from pandas>=0.25.3->tabula-py) (2025.1)\n",
            "Requirement already satisfied: tzdata>=2022.7 in /usr/local/lib/python3.11/dist-packages (from pandas>=0.25.3->tabula-py) (2025.1)\n",
            "Requirement already satisfied: six>=1.5 in /usr/local/lib/python3.11/dist-packages (from python-dateutil>=2.8.2->pandas>=0.25.3->tabula-py) (1.17.0)\n",
            "Requirement already satisfied: pandas in /usr/local/lib/python3.11/dist-packages (2.2.2)\n",
            "Requirement already satisfied: numpy>=1.23.2 in /usr/local/lib/python3.11/dist-packages (from pandas) (1.26.4)\n",
            "Requirement already satisfied: python-dateutil>=2.8.2 in /usr/local/lib/python3.11/dist-packages (from pandas) (2.8.2)\n",
            "Requirement already satisfied: pytz>=2020.1 in /usr/local/lib/python3.11/dist-packages (from pandas) (2025.1)\n",
            "Requirement already satisfied: tzdata>=2022.7 in /usr/local/lib/python3.11/dist-packages (from pandas) (2025.1)\n",
            "Requirement already satisfied: six>=1.5 in /usr/local/lib/python3.11/dist-packages (from python-dateutil>=2.8.2->pandas) (1.17.0)\n",
            "An error occurred: sequence item 0: expected str instance, int found\n"
          ]
        }
      ]
    }
  ]
}